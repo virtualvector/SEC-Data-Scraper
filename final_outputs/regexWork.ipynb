{
 "cells": [
  {
   "cell_type": "code",
   "execution_count": 1,
   "metadata": {
    "collapsed": true
   },
   "outputs": [],
   "source": [
    "import re\n",
    "import pandas as pd\n",
    "import numpy as np"
   ]
  },
  {
   "cell_type": "code",
   "execution_count": 3,
   "metadata": {
    "collapsed": true
   },
   "outputs": [],
   "source": [
    "inputfile = pd.read_excel('output_phase_1.xlsx')"
   ]
  },
  {
   "cell_type": "code",
   "execution_count": 9,
   "metadata": {
    "collapsed": false
   },
   "outputs": [],
   "source": [
    "cdsfile=inputfile.loc[inputfile['Atrributes'] == 'CDS Text']"
   ]
  },
  {
   "cell_type": "code",
   "execution_count": 353,
   "metadata": {
    "collapsed": false
   },
   "outputs": [],
   "source": [
    "def receive_quart(string):\n",
    "            \n",
    "            pat2=r\"Receive(\\s)*quarterly(\\s)*(a*)(\\s)*notional(\\s)*(amount)*(\\s)*(multiplied)*(\\s)*(multilpied)*(\\s)*by(\\s)*(.*)(\\s)*and(\\s)*pay(\\s)*(.*)(\\s)*upon(\\s)*default(\\s)*(event)*(\\s)*of(\\s)*(.*)(\\s)*,(\\s)*par(\\s)*value(\\s)*of(\\s)*the(\\s)*notional(\\s)*(amount)*(\\s)*of(\\s)*(.*)\"\n",
    "    \n",
    "            try:\n",
    "                if(re.search(pat2,i)!=None):\n",
    "                    return re.search(pat2,i)\n",
    "                \n",
    "                else: return None\n",
    "\n",
    "            except Exception as e:\n",
    "                print \"error\""
   ]
  },
  {
   "cell_type": "code",
   "execution_count": 360,
   "metadata": {
    "collapsed": false
   },
   "outputs": [],
   "source": [
    "def receive_from(string):\n",
    "    \n",
    "\n",
    "            pat3=\"Receive(\\s)*from(\\s)*(.*)(\\s)*,(\\s)*upon(\\s)*default(\\s)*(event)*(\\s)(\\s)*of(\\s)*(.*)(\\s)*,(\\s)*par(\\s)*value(\\s)*of(\\s)*the(\\s)*notional(\\s)*(amount)*(\\s)*of(\\s)*(.*)(,)*(\\s)*(.*),(\\s)*(.*)\"\n",
    "\n",
    "\n",
    "\n",
    "            try:\n",
    "                    return re.search(pat3,string)\n",
    "                    \n",
    "\n",
    "\n",
    "            except Exception as e:\n",
    "                return None"
   ]
  },
  {
   "cell_type": "code",
   "execution_count": 410,
   "metadata": {
    "collapsed": false,
    "scrolled": true
   },
   "outputs": [
    {
     "name": "stdout",
     "output_type": "stream",
     "text": [
      "Vornado Realty Trust Vornado Realty Trust 5.625% 6/15/07 Morgan Stanley, Inc. buy\n",
      "Vornado Realty Trust Vornado Realty Trust 5.625% 6/15/07 Morgan Stanley, Inc. buy\n",
      "Vornado Realty Trust Vornado Realty Trust 5.625% 6/15/07 Morgan Stanley, Inc. buy\n",
      "None\n",
      "Raytheon Co. Raytheon Co. 5.375% 4/1/13 Merrill Lynch, Inc.  sell\n",
      "Vornado Realty Trust Vornado Realty Trust 5.625% 6/15/07 Morgan Stanley, Inc. buy\n",
      "Comcast Cable Communications, Inc. Comcast Cable Communications, Inc. 6.75% 1/30/11 Morgan Stanley, Inc.  sell\n",
      "None\n",
      "None\n",
      "Raytheon Co. Raytheon Co. 5.375% 4/1/13 Merrill Lynch, Inc.  sell\n",
      "Raytheon Co. Raytheon Co. 5.375% 4/1/13 Merrill Lynch, Inc.  sell\n",
      "Raytheon Co. Raytheon Co. 5.375% 4/1/13 Merrill Lynch, Inc.  sell\n",
      "SLM Corp. SLM Corp. 1.1106% 7/25/35 Goldman Sachs  sell\n",
      "Vornado Realty Trust Vornado Realty Trust 5.625% 6/15/07 Morgan Stanley, Inc. buy\n",
      "Vornado Realty Trust Vornado Realty Trust 5.625% 6/15/07 Morgan Stanley, Inc. buy\n",
      "Vornado Realty Trust Vornado Realty Trust 5.625% 6/15/07 Morgan Stanley, Inc. buy\n",
      "Vornado Realty Trust Vornado Realty Trust 5.625% 6/15/07 Morgan Stanley, Inc. buy\n",
      "Vornado Realty Trust Vornado Realty Trust 5.625% 6/15/07 Morgan Stanley, Inc. buy\n",
      "Vornado Realty Trust Vornado Realty Trust 5.625% 6/15/07 Morgan Stanley, Inc. buy\n",
      "Vornado Realty Trust Vornado Realty Trust 5.625% 6/15/07 Morgan Stanley, Inc. buy\n",
      "Vornado Realty Trust Vornado Realty Trust 5.625% 6/15/07 Morgan Stanley, Inc. buy\n",
      "SLM Corp. SLM Corp. 1.1106% 7/25/35 Goldman Sachs  sell\n",
      "SLM Corp. SLM Corp. 1.1106% 7/25/35 Goldman Sachs  sell\n",
      "Vornado Realty Trust Vornado Realty Trust 5.625% 6/15/07 Morgan Stanley, Inc. buy\n",
      "Vornado Realty Trust Vornado Realty Trust 5.625% 6/15/07 Morgan Stanley, Inc. buy\n",
      "Comcast Cable Communications, Inc. Comcast Cable Communications, Inc. 6.75% 1/30/11 Morgan Stanley, Inc.  sell\n",
      "Vornado Realty Trust Vornado Realty Trust 5.625% 6/15/07 Morgan Stanley, Inc. buy\n",
      "SBC Communications, Inc. SBC Communciations, Inc. 6.25% 3/15/11 Lehman Brothers, Inc.,  sell\n",
      "Comcast Cable Communications, Inc. Comcast Cable Communications, Inc. 6.75% 1/30/11 Morgan Stanley, Inc.  sell\n",
      "Lockheed Martin Corp. Lockheed Martin Corp. 8.2% 12/1/09 JPMorgan Chase, Inc.  sell\n",
      "Lockheed Martin Corp. Lockheed Martin Corp. 8.2% 12/1/09 JPMorgan Chase, Inc.  sell\n",
      "Devon Energy Corp. Devon Energy Corp. 7.95% 4/15/32 Goldman Sachs  sell\n",
      "Consolidated Natural Gas Co. Consolidated Natural Gas Co. 7.25% 10/1/04 Goldman Sachs  sell\n",
      "Devon Energy Corp. Devon Energy Corp. 7.95% 4/15/32 Goldman Sachs  sell\n",
      "Devon Energy Corp. Devon Energy Corp. 7.95% 4/15/32 Goldman Sachs  sell\n",
      "Devon Energy Corp. Devon Energy Corp. 7.95% 4/15/32 Goldman Sachs  sell\n",
      "Devon Energy Corp. Devon Energy Corp. 7.95% 4/15/32 Goldman Sachs  sell\n",
      "Devon Energy Corp. Devon Energy Corp. 7.95% 4/15/32 Goldman Sachs  sell\n",
      "Devon Energy Corp. Devon Energy Corp. 7.95% 4/15/32 Goldman Sachs  sell\n",
      "Devon Energy Corp. Devon Energy Corp. 7.95% 4/15/32 Goldman Sachs  sell\n",
      "Devon Energy Corp. Devon Energy Corp. 7.95% 4/15/32 Goldman Sachs  sell\n",
      "Devon Energy Corp. Devon Energy Corp. 7.95% 4/15/32 Goldman Sachs  sell\n",
      "Devon Energy Corp. Devon Energy Corp. 7.95% 4/15/32 Goldman Sachs  sell\n",
      "Devon Energy Corp. Devon Energy Corp. 7.95% 4/15/32 Goldman Sachs  sell\n",
      "Consolidated Natural Gas Co. Consolidated Natural Gas Co. 7.25% 10/1/04 Goldman Sachs  sell\n",
      "Lockheed Martin Corp. Lockheed Martin Corp. 8.2% 12/1/09 JPMorgan Chase, Inc.  sell\n",
      "EnCana Corp. EnCana Corp. 4.75% 10/15/13 Merrill Lynch, Inc.  sell\n",
      "EnCana Corp. EnCana Corp. 4.75% 10/15/13 Merrill Lynch, Inc.  sell\n",
      "EnCana Corp. EnCana Corp. 4.75% 10/15/13 Merrill Lynch, Inc.  sell\n",
      "EnCana Corp. EnCana Corp. 4.75% 10/15/13 Merrill Lynch, Inc.  sell\n",
      "EnCana Corp. EnCana Corp. 4.75% 10/15/13 Merrill Lynch, Inc.  sell\n",
      "EnCana Corp. EnCana Corp. 4.75% 10/15/13 Merrill Lynch, Inc.  sell\n",
      "Apache Corp. Apache Corp. 6.25% 4/15/12 Bank of America  sell\n",
      "Apache Corp. Apache Corp. 6.25% 4/15/12 Bank of America  sell\n",
      "Apache Corp. Apache Corp. 6.25% 4/15/12 Bank of America  sell\n",
      "  Lehman Brothers, Inc.,   buy\n",
      "  Lehman Brothers, Inc.,   buy\n",
      "  Lehman Brothers, Inc.,   buy\n",
      "Motorola, Inc. Motorola, Inc. 7.625% 11/15/10 Morgan Stanley, Inc. buy\n",
      "Devon Energy Corp. Devon Energy Corp. 7.95% 4/15/32 Goldman Sachs  sell\n",
      "EnCana Corp. EnCana Corp. 4.75% 10/15/13 Merrill Lynch, Inc.  sell\n",
      "EnCana Corp. EnCana Corp. 4.75% 10/15/13 Merrill Lynch, Inc.  sell\n",
      "EnCana Corp. EnCana Corp. 4.75% 10/15/13 Merrill Lynch, Inc.  sell\n",
      "EnCana Corp. EnCana Corp. 4.75% 10/15/13 Merrill Lynch, Inc.  sell\n",
      "EnCana Corp. EnCana Corp. 4.75% 10/15/13 Merrill Lynch, Inc.  sell\n",
      "EnCana Corp. EnCana Corp. 4.75% 10/15/13 Merrill Lynch, Inc.  sell\n",
      "EnCana Corp. EnCana Corp. 4.75% 10/15/13 Merrill Lynch, Inc.  sell\n",
      "EnCana Corp. EnCana Corp. 4.75% 10/15/13 Merrill Lynch, Inc.  sell\n",
      "EnCana Corp. EnCana Corp. 4.75% 10/15/13 Merrill Lynch, Inc.  sell\n",
      "EnCana Corp. EnCana Corp. 4.75% 10/15/13 Merrill Lynch, Inc.  sell\n",
      "EnCana Corp. EnCana Corp. 4.75% 10/15/13 Merrill Lynch, Inc.  sell\n"
     ]
    }
   ],
   "source": [
    "for count,i in enumerate(cdsfile[\"Values\"]):\n",
    "    if (i.startswith(\"Receive quarterly\")):\n",
    "        value_parser_dummy(\"quart\",receive_quart(i),count)\n",
    "    \n",
    "    elif (i.startswith(\"Receive from\")):\n",
    "        value_parser_dummy(\"from\",receive_from(i),count)\n",
    "        \n",
    "    else :\n",
    "        value_parser_dummy(\"anually\",None,count)\n",
    "    "
   ]
  },
  {
   "cell_type": "code",
   "execution_count": 434,
   "metadata": {
    "collapsed": false
   },
   "outputs": [],
   "source": [
    "def value_parser_dummy(token,obj,count,f):\n",
    "   \n",
    "    if(token==\"quart\"):\n",
    "        ll=list()\n",
    "        for j in obj.groups():\n",
    "            ll.append(j)\n",
    "        f.write(str(cdsfile[\"ID\"].iloc[count])+\"^\"+\\\n",
    "                str((cdsfile['CIK']).iloc[count])+\"^\"+\\\n",
    "                    str((cdsfile['Company']).iloc[count])+\"^\"+\\\n",
    "                     str((cdsfile['Date Filed']).iloc[count])+\"^\"+\\\n",
    "                     str((cdsfile['filename']).iloc[count])+\"^\"+\\\n",
    "                     str((cdsfile['FormType']).iloc[count])+\"^\"+\\\n",
    "                     str((cdsfile['URL']).iloc[count])+\"^\"+\\\n",
    "                     str((cdsfile['Values']).iloc[count])+\"^\"+\\\n",
    "                str(ll[23])+\"^\"+str(ll[-1])+\"^\"+str(ll[16])+\"^\"+\"sell\"+\"\\n\")\n",
    "    \n",
    "     \n",
    "    if(token==\"from\"):\n",
    "        ll=list() \n",
    "        \n",
    "        if(obj==None):\n",
    "            print None\n",
    "            \n",
    "            \n",
    "        else:\n",
    "            \n",
    "            for j in obj.groups():\n",
    "                ll.append(j)\n",
    "        if(len(ll)!=0): \n",
    "            f.write(str(cdsfile[\"ID\"].iloc[count])+\"^\"+\\\n",
    "                    str((cdsfile['CIK']).iloc[count])+\"^\"+\\\n",
    "                    str((cdsfile['Company']).iloc[count])+\"^\"+\\\n",
    "                     str((cdsfile['Date Filed']).iloc[count])+\"^\"+\\\n",
    "                     str((cdsfile['filename']).iloc[count])+\"^\"+\\\n",
    "                     str((cdsfile['FormType']).iloc[count])+\"^\"+\\\n",
    "                     str((cdsfile['URL']).iloc[count])+\"^\"+\\\n",
    "                     str((cdsfile['Values']).iloc[count])+\"^\"+\\\n",
    "                    \n",
    "                    ll[11]+\"^\"+ll[22]+\"^\"+ll[2]+\"^\"+\"buy\"+\"\\n\")\n",
    "        \n",
    "    \n",
    "    if(token==\"anually\"):\n",
    "        \"\"\"\n",
    "        Receive annually a fixed rate of .6% multiplied by the notional amount and pay to Lehman Brothers, Inc., \n",
    "        upon each default event of\n",
    "        one of the issues of Dow Jones CDX N.A. Investment Grade 2, par value of the proportional notional amount (d)\n",
    "        \"\"\"\n",
    "        f.write(str((cdsfile[\"ID\"].iloc[count]))+\"^\"+\\\n",
    "                str((cdsfile['CIK']).iloc[count])+\"^\"+\\\n",
    "                    str((cdsfile['Company']).iloc[count])+\"^\"+\\\n",
    "                     str((cdsfile['Date Filed']).iloc[count])+\"^\"+\\\n",
    "                     str((cdsfile['filename']).iloc[count])+\"^\"+\\\n",
    "                     str((cdsfile['FormType']).iloc[count])+\"^\"+\\\n",
    "                     str((cdsfile['URL']).iloc[count])+\"^\"+\\\n",
    "                     str((cdsfile['Values']).iloc[count])+\"^\"+\\\n",
    "                \" \"+\"^\"+\"Lehman Brothers, Inc.,\"+\"^\"+\" \"+\"^\"+\"buy\"+\"\\n\")\n",
    "        "
   ]
  },
  {
   "cell_type": "code",
   "execution_count": 431,
   "metadata": {
    "collapsed": false
   },
   "outputs": [
    {
     "name": "stdout",
     "output_type": "stream",
     "text": [
      "None\n",
      "None\n",
      "None\n"
     ]
    }
   ],
   "source": [
    "with open(\"transactionfile.csv\",'w') as f:\n",
    "    for count,i in enumerate(cdsfile[\"Values\"]):\n",
    "        if (i.startswith(\"Receive quarterly\")):\n",
    "            value_parser_dummy(\"quart\",receive_quart(i),count,f)\n",
    "\n",
    "        elif (i.startswith(\"Receive from\")):\n",
    "            value_parser_dummy(\"from\",receive_from(i),count,f)\n",
    "\n",
    "        else :\n",
    "            value_parser_dummy(\"anually\",None,count,f)\n",
    "    \n",
    "    "
   ]
  }
 ],
 "metadata": {
  "anaconda-cloud": {},
  "kernelspec": {
   "display_name": "Python [conda root]",
   "language": "python",
   "name": "conda-root-py"
  },
  "language_info": {
   "codemirror_mode": {
    "name": "ipython",
    "version": 2
   },
   "file_extension": ".py",
   "mimetype": "text/x-python",
   "name": "python",
   "nbconvert_exporter": "python",
   "pygments_lexer": "ipython2",
   "version": "2.7.12"
  }
 },
 "nbformat": 4,
 "nbformat_minor": 2
}
